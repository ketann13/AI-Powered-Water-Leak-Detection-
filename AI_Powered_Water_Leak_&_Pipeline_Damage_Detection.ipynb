{
  "cells": [
    {
      "cell_type": "code",
      "execution_count": 34,
      "metadata": {
        "id": "_sASydACUobB"
      },
      "outputs": [],
      "source": [
        "# Importing all the important libraries\n",
        "\n",
        "import pandas as pd\n",
        "import matplotlib.pyplot as plt\n",
        "from sklearn.model_selection import train_test_split\n",
        "from sklearn.linear_model import LogisticRegression\n",
        "from sklearn.metrics import confusion_matrix,accuracy_score,classification_report\n",
        "import seaborn as sns\n",
        "\n",
        "import warnings\n",
        "warnings.filterwarnings('ignore')"
      ]
    },
    {
      "cell_type": "code",
      "execution_count": 35,
      "metadata": {},
      "outputs": [],
      "source": [
        "from sklearn.model_selection import train_test_split, cross_val_score, GridSearchCV\n",
        "from sklearn.preprocessing import StandardScaler\n",
        "from sklearn.linear_model import LogisticRegression\n",
        "from sklearn.tree import DecisionTreeClassifier\n",
        "from sklearn.ensemble import RandomForestClassifier\n",
        "from sklearn.metrics import (confusion_matrix, accuracy_score, classification_report,\n",
        "                             roc_auc_score, roc_curve)"
      ]
    },
    {
      "cell_type": "code",
      "execution_count": 36,
      "metadata": {
        "id": "GIVh1dpfUpzM"
      },
      "outputs": [],
      "source": [
        "df = pd.read_csv('water_leak_detection.csv')"
      ]
    },
    {
      "cell_type": "code",
      "execution_count": 37,
      "metadata": {
        "colab": {
          "base_uri": "https://localhost:8080/",
          "height": 206
        },
        "id": "iaZNNCMQU0qk",
        "outputId": "5cfa2c10-418c-452a-cc5c-3f403fb57635"
      },
      "outputs": [
        {
          "data": {
            "text/html": [
              "<div>\n",
              "<style scoped>\n",
              "    .dataframe tbody tr th:only-of-type {\n",
              "        vertical-align: middle;\n",
              "    }\n",
              "\n",
              "    .dataframe tbody tr th {\n",
              "        vertical-align: top;\n",
              "    }\n",
              "\n",
              "    .dataframe thead th {\n",
              "        text-align: right;\n",
              "    }\n",
              "</style>\n",
              "<table border=\"1\" class=\"dataframe\">\n",
              "  <thead>\n",
              "    <tr style=\"text-align: right;\">\n",
              "      <th></th>\n",
              "      <th>Timestamp</th>\n",
              "      <th>Sensor_ID</th>\n",
              "      <th>Pressure (bar)</th>\n",
              "      <th>Flow Rate (L/s)</th>\n",
              "      <th>Temperature (°C)</th>\n",
              "      <th>Leak Status</th>\n",
              "      <th>Burst Status</th>\n",
              "    </tr>\n",
              "  </thead>\n",
              "  <tbody>\n",
              "    <tr>\n",
              "      <th>0</th>\n",
              "      <td>2024-01-01 00:00:00</td>\n",
              "      <td>S007</td>\n",
              "      <td>3.694814</td>\n",
              "      <td>77.515218</td>\n",
              "      <td>21.695365</td>\n",
              "      <td>0</td>\n",
              "      <td>0</td>\n",
              "    </tr>\n",
              "    <tr>\n",
              "      <th>1</th>\n",
              "      <td>2024-01-01 00:05:00</td>\n",
              "      <td>S007</td>\n",
              "      <td>2.587125</td>\n",
              "      <td>179.926422</td>\n",
              "      <td>19.016725</td>\n",
              "      <td>0</td>\n",
              "      <td>0</td>\n",
              "    </tr>\n",
              "    <tr>\n",
              "      <th>2</th>\n",
              "      <td>2024-01-01 00:10:00</td>\n",
              "      <td>S002</td>\n",
              "      <td>2.448965</td>\n",
              "      <td>210.130823</td>\n",
              "      <td>10.011681</td>\n",
              "      <td>1</td>\n",
              "      <td>0</td>\n",
              "    </tr>\n",
              "    <tr>\n",
              "      <th>3</th>\n",
              "      <td>2024-01-01 00:15:00</td>\n",
              "      <td>S009</td>\n",
              "      <td>2.936844</td>\n",
              "      <td>141.777934</td>\n",
              "      <td>12.092408</td>\n",
              "      <td>0</td>\n",
              "      <td>0</td>\n",
              "    </tr>\n",
              "    <tr>\n",
              "      <th>4</th>\n",
              "      <td>2024-01-01 00:20:00</td>\n",
              "      <td>S003</td>\n",
              "      <td>3.073693</td>\n",
              "      <td>197.484633</td>\n",
              "      <td>17.001443</td>\n",
              "      <td>0</td>\n",
              "      <td>0</td>\n",
              "    </tr>\n",
              "  </tbody>\n",
              "</table>\n",
              "</div>"
            ],
            "text/plain": [
              "             Timestamp Sensor_ID  Pressure (bar)  Flow Rate (L/s)  \\\n",
              "0  2024-01-01 00:00:00      S007        3.694814        77.515218   \n",
              "1  2024-01-01 00:05:00      S007        2.587125       179.926422   \n",
              "2  2024-01-01 00:10:00      S002        2.448965       210.130823   \n",
              "3  2024-01-01 00:15:00      S009        2.936844       141.777934   \n",
              "4  2024-01-01 00:20:00      S003        3.073693       197.484633   \n",
              "\n",
              "   Temperature (°C)  Leak Status  Burst Status  \n",
              "0         21.695365            0             0  \n",
              "1         19.016725            0             0  \n",
              "2         10.011681            1             0  \n",
              "3         12.092408            0             0  \n",
              "4         17.001443            0             0  "
            ]
          },
          "execution_count": 37,
          "metadata": {},
          "output_type": "execute_result"
        }
      ],
      "source": [
        "df.head()"
      ]
    },
    {
      "cell_type": "code",
      "execution_count": 38,
      "metadata": {
        "colab": {
          "base_uri": "https://localhost:8080/",
          "height": 206
        },
        "id": "2-K8DAXIU3g-",
        "outputId": "63083731-d743-41b7-c3ff-9d9a658baee6"
      },
      "outputs": [
        {
          "data": {
            "text/html": [
              "<div>\n",
              "<style scoped>\n",
              "    .dataframe tbody tr th:only-of-type {\n",
              "        vertical-align: middle;\n",
              "    }\n",
              "\n",
              "    .dataframe tbody tr th {\n",
              "        vertical-align: top;\n",
              "    }\n",
              "\n",
              "    .dataframe thead th {\n",
              "        text-align: right;\n",
              "    }\n",
              "</style>\n",
              "<table border=\"1\" class=\"dataframe\">\n",
              "  <thead>\n",
              "    <tr style=\"text-align: right;\">\n",
              "      <th></th>\n",
              "      <th>Timestamp</th>\n",
              "      <th>Sensor_ID</th>\n",
              "      <th>Pressure (bar)</th>\n",
              "      <th>Flow Rate (L/s)</th>\n",
              "      <th>Temperature (°C)</th>\n",
              "      <th>Leak Status</th>\n",
              "      <th>Burst Status</th>\n",
              "    </tr>\n",
              "  </thead>\n",
              "  <tbody>\n",
              "    <tr>\n",
              "      <th>995</th>\n",
              "      <td>2024-01-04 10:55:00</td>\n",
              "      <td>S007</td>\n",
              "      <td>2.949811</td>\n",
              "      <td>55.160481</td>\n",
              "      <td>19.523946</td>\n",
              "      <td>0</td>\n",
              "      <td>0</td>\n",
              "    </tr>\n",
              "    <tr>\n",
              "      <th>996</th>\n",
              "      <td>2024-01-04 11:00:00</td>\n",
              "      <td>S010</td>\n",
              "      <td>3.836533</td>\n",
              "      <td>172.041322</td>\n",
              "      <td>20.724292</td>\n",
              "      <td>0</td>\n",
              "      <td>0</td>\n",
              "    </tr>\n",
              "    <tr>\n",
              "      <th>997</th>\n",
              "      <td>2024-01-04 11:05:00</td>\n",
              "      <td>S002</td>\n",
              "      <td>2.716468</td>\n",
              "      <td>64.033911</td>\n",
              "      <td>10.250073</td>\n",
              "      <td>0</td>\n",
              "      <td>0</td>\n",
              "    </tr>\n",
              "    <tr>\n",
              "      <th>998</th>\n",
              "      <td>2024-01-04 11:10:00</td>\n",
              "      <td>S002</td>\n",
              "      <td>3.017897</td>\n",
              "      <td>75.913513</td>\n",
              "      <td>19.329712</td>\n",
              "      <td>0</td>\n",
              "      <td>0</td>\n",
              "    </tr>\n",
              "    <tr>\n",
              "      <th>999</th>\n",
              "      <td>2024-01-04 11:15:00</td>\n",
              "      <td>S003</td>\n",
              "      <td>3.777372</td>\n",
              "      <td>179.568443</td>\n",
              "      <td>16.101606</td>\n",
              "      <td>0</td>\n",
              "      <td>0</td>\n",
              "    </tr>\n",
              "  </tbody>\n",
              "</table>\n",
              "</div>"
            ],
            "text/plain": [
              "               Timestamp Sensor_ID  Pressure (bar)  Flow Rate (L/s)  \\\n",
              "995  2024-01-04 10:55:00      S007        2.949811        55.160481   \n",
              "996  2024-01-04 11:00:00      S010        3.836533       172.041322   \n",
              "997  2024-01-04 11:05:00      S002        2.716468        64.033911   \n",
              "998  2024-01-04 11:10:00      S002        3.017897        75.913513   \n",
              "999  2024-01-04 11:15:00      S003        3.777372       179.568443   \n",
              "\n",
              "     Temperature (°C)  Leak Status  Burst Status  \n",
              "995         19.523946            0             0  \n",
              "996         20.724292            0             0  \n",
              "997         10.250073            0             0  \n",
              "998         19.329712            0             0  \n",
              "999         16.101606            0             0  "
            ]
          },
          "execution_count": 38,
          "metadata": {},
          "output_type": "execute_result"
        }
      ],
      "source": [
        "df.tail()"
      ]
    },
    {
      "cell_type": "code",
      "execution_count": 39,
      "metadata": {
        "colab": {
          "base_uri": "https://localhost:8080/",
          "height": 300
        },
        "id": "scfDel8hU7UQ",
        "outputId": "636b7f61-58a7-4966-830c-b7da1a350694"
      },
      "outputs": [
        {
          "data": {
            "text/html": [
              "<div>\n",
              "<style scoped>\n",
              "    .dataframe tbody tr th:only-of-type {\n",
              "        vertical-align: middle;\n",
              "    }\n",
              "\n",
              "    .dataframe tbody tr th {\n",
              "        vertical-align: top;\n",
              "    }\n",
              "\n",
              "    .dataframe thead th {\n",
              "        text-align: right;\n",
              "    }\n",
              "</style>\n",
              "<table border=\"1\" class=\"dataframe\">\n",
              "  <thead>\n",
              "    <tr style=\"text-align: right;\">\n",
              "      <th></th>\n",
              "      <th>Pressure (bar)</th>\n",
              "      <th>Flow Rate (L/s)</th>\n",
              "      <th>Temperature (°C)</th>\n",
              "      <th>Leak Status</th>\n",
              "      <th>Burst Status</th>\n",
              "    </tr>\n",
              "  </thead>\n",
              "  <tbody>\n",
              "    <tr>\n",
              "      <th>count</th>\n",
              "      <td>1000.000000</td>\n",
              "      <td>1000.000000</td>\n",
              "      <td>1000.000000</td>\n",
              "      <td>1000.000000</td>\n",
              "      <td>1000.000000</td>\n",
              "    </tr>\n",
              "    <tr>\n",
              "      <th>mean</th>\n",
              "      <td>3.220696</td>\n",
              "      <td>125.038082</td>\n",
              "      <td>17.434794</td>\n",
              "      <td>0.019000</td>\n",
              "      <td>0.010000</td>\n",
              "    </tr>\n",
              "    <tr>\n",
              "      <th>std</th>\n",
              "      <td>0.488997</td>\n",
              "      <td>44.121419</td>\n",
              "      <td>4.288908</td>\n",
              "      <td>0.136593</td>\n",
              "      <td>0.099549</td>\n",
              "    </tr>\n",
              "    <tr>\n",
              "      <th>min</th>\n",
              "      <td>0.910977</td>\n",
              "      <td>50.654490</td>\n",
              "      <td>10.002020</td>\n",
              "      <td>0.000000</td>\n",
              "      <td>0.000000</td>\n",
              "    </tr>\n",
              "    <tr>\n",
              "      <th>25%</th>\n",
              "      <td>2.859332</td>\n",
              "      <td>87.946866</td>\n",
              "      <td>13.715323</td>\n",
              "      <td>0.000000</td>\n",
              "      <td>0.000000</td>\n",
              "    </tr>\n",
              "    <tr>\n",
              "      <th>50%</th>\n",
              "      <td>3.265711</td>\n",
              "      <td>124.106896</td>\n",
              "      <td>17.330067</td>\n",
              "      <td>0.000000</td>\n",
              "      <td>0.000000</td>\n",
              "    </tr>\n",
              "    <tr>\n",
              "      <th>75%</th>\n",
              "      <td>3.607196</td>\n",
              "      <td>162.086708</td>\n",
              "      <td>20.922839</td>\n",
              "      <td>0.000000</td>\n",
              "      <td>0.000000</td>\n",
              "    </tr>\n",
              "    <tr>\n",
              "      <th>max</th>\n",
              "      <td>3.995364</td>\n",
              "      <td>331.754081</td>\n",
              "      <td>24.966107</td>\n",
              "      <td>1.000000</td>\n",
              "      <td>1.000000</td>\n",
              "    </tr>\n",
              "  </tbody>\n",
              "</table>\n",
              "</div>"
            ],
            "text/plain": [
              "       Pressure (bar)  Flow Rate (L/s)  Temperature (°C)  Leak Status  \\\n",
              "count     1000.000000      1000.000000       1000.000000  1000.000000   \n",
              "mean         3.220696       125.038082         17.434794     0.019000   \n",
              "std          0.488997        44.121419          4.288908     0.136593   \n",
              "min          0.910977        50.654490         10.002020     0.000000   \n",
              "25%          2.859332        87.946866         13.715323     0.000000   \n",
              "50%          3.265711       124.106896         17.330067     0.000000   \n",
              "75%          3.607196       162.086708         20.922839     0.000000   \n",
              "max          3.995364       331.754081         24.966107     1.000000   \n",
              "\n",
              "       Burst Status  \n",
              "count   1000.000000  \n",
              "mean       0.010000  \n",
              "std        0.099549  \n",
              "min        0.000000  \n",
              "25%        0.000000  \n",
              "50%        0.000000  \n",
              "75%        0.000000  \n",
              "max        1.000000  "
            ]
          },
          "execution_count": 39,
          "metadata": {},
          "output_type": "execute_result"
        }
      ],
      "source": [
        "df.describe()"
      ]
    },
    {
      "cell_type": "code",
      "execution_count": 40,
      "metadata": {
        "colab": {
          "base_uri": "https://localhost:8080/"
        },
        "id": "5z-vYOoIVBdw",
        "outputId": "2504a84e-d29d-49d1-8716-54646343ce76"
      },
      "outputs": [
        {
          "name": "stdout",
          "output_type": "stream",
          "text": [
            "<class 'pandas.core.frame.DataFrame'>\n",
            "RangeIndex: 1000 entries, 0 to 999\n",
            "Data columns (total 7 columns):\n",
            " #   Column            Non-Null Count  Dtype  \n",
            "---  ------            --------------  -----  \n",
            " 0   Timestamp         1000 non-null   object \n",
            " 1   Sensor_ID         1000 non-null   object \n",
            " 2   Pressure (bar)    1000 non-null   float64\n",
            " 3   Flow Rate (L/s)   1000 non-null   float64\n",
            " 4   Temperature (°C)  1000 non-null   float64\n",
            " 5   Leak Status       1000 non-null   int64  \n",
            " 6   Burst Status      1000 non-null   int64  \n",
            "dtypes: float64(3), int64(2), object(2)\n",
            "memory usage: 54.8+ KB\n"
          ]
        }
      ],
      "source": [
        "df.info()"
      ]
    },
    {
      "cell_type": "code",
      "execution_count": 41,
      "metadata": {
        "colab": {
          "base_uri": "https://localhost:8080/"
        },
        "id": "jXvx_0BsVFwA",
        "outputId": "7c32f7be-2b4c-4f9b-a512-42a492219273"
      },
      "outputs": [
        {
          "data": {
            "text/plain": [
              "(1000, 7)"
            ]
          },
          "execution_count": 41,
          "metadata": {},
          "output_type": "execute_result"
        }
      ],
      "source": [
        "df.shape"
      ]
    },
    {
      "cell_type": "code",
      "execution_count": 42,
      "metadata": {
        "colab": {
          "base_uri": "https://localhost:8080/",
          "height": 303
        },
        "id": "ANXME_Y0VOUK",
        "outputId": "7a1ba334-0b71-4b15-c9a7-5f637c85e9c2"
      },
      "outputs": [
        {
          "data": {
            "text/plain": [
              "Timestamp           0\n",
              "Sensor_ID           0\n",
              "Pressure (bar)      0\n",
              "Flow Rate (L/s)     0\n",
              "Temperature (°C)    0\n",
              "Leak Status         0\n",
              "Burst Status        0\n",
              "dtype: int64"
            ]
          },
          "execution_count": 42,
          "metadata": {},
          "output_type": "execute_result"
        }
      ],
      "source": [
        "df.isnull().sum()"
      ]
    },
    {
      "cell_type": "code",
      "execution_count": 43,
      "metadata": {},
      "outputs": [
        {
          "name": "stdout",
          "output_type": "stream",
          "text": [
            "Leak Status\n",
            "0    981\n",
            "1     19\n",
            "Name: count, dtype: int64\n"
          ]
        }
      ],
      "source": [
        "print(df[\"Leak Status\"].value_counts())"
      ]
    },
    {
      "cell_type": "code",
      "execution_count": 44,
      "metadata": {},
      "outputs": [
        {
          "data": {
            "image/png": "[encoded data removed]",
            "text/plain": [
              "<Figure size 640x480 with 1 Axes>"
            ]
          },
          "metadata": {},
          "output_type": "display_data"
        }
      ],
      "source": [
        "sns.countplot(x=\"Leak Status\", data=df)\n",
        "plt.title(\"Leak Status Distribution\")\n",
        "plt.show()"
      ]
    },
    {
      "cell_type": "code",
      "execution_count": 45,
      "metadata": {
        "id": "z8QO1neyVPEH"
      },
      "outputs": [],
      "source": [
        "X = df[['Pressure (bar)', 'Flow Rate (L/s)',\n",
        "       'Temperature (°C)']]\n",
        "y = df['Leak Status']"
      ]
    },
    {
      "cell_type": "code",
      "execution_count": 46,
      "metadata": {
        "id": "SuQPD_KKVU6D"
      },
      "outputs": [],
      "source": [
        "X_train,X_test,y_train,y_test = train_test_split(X,y,test_size = 0.2,random_state = 42)"
      ]
    },
    {
      "cell_type": "code",
      "execution_count": 47,
      "metadata": {},
      "outputs": [],
      "source": [
        "# Use StandardScaler to scale the data\n",
        "scaler = StandardScaler()\n",
        "X_train_scaled = scaler.fit_transform(X_train)\n",
        "X_test_scaled = scaler.transform(X_test)\n"
      ]
    },
    {
      "cell_type": "code",
      "execution_count": 48,
      "metadata": {},
      "outputs": [
        {
          "name": "stdout",
          "output_type": "stream",
          "text": [
            "\n",
            "--- Training Logistic Regression ---\n",
            "Accuracy: 0.9900\n",
            "Classification Report:\n",
            "              precision    recall  f1-score   support\n",
            "\n",
            "           0       0.99      0.99      0.99       199\n",
            "           1       0.00      0.00      0.00         1\n",
            "\n",
            "    accuracy                           0.99       200\n",
            "   macro avg       0.50      0.50      0.50       200\n",
            "weighted avg       0.99      0.99      0.99       200\n",
            "\n",
            "Confusion Matrix:\n",
            "[[198   1]\n",
            " [  1   0]]\n",
            "ROC AUC Score: 0.9899\n",
            "\n",
            "--- Training Decision Tree Classifier ---\n",
            "Accuracy: 0.9900\n",
            "Classification Report:\n",
            "              precision    recall  f1-score   support\n",
            "\n",
            "           0       1.00      0.99      0.99       199\n",
            "           1       0.33      1.00      0.50         1\n",
            "\n",
            "    accuracy                           0.99       200\n",
            "   macro avg       0.67      0.99      0.75       200\n",
            "weighted avg       1.00      0.99      0.99       200\n",
            "\n",
            "Confusion Matrix:\n",
            "[[197   2]\n",
            " [  0   1]]\n",
            "ROC AUC Score: 0.9950\n",
            "\n",
            "--- Training Random Forest Classifier ---\n",
            "Accuracy: 0.9900\n",
            "Classification Report:\n",
            "              precision    recall  f1-score   support\n",
            "\n",
            "           0       0.99      0.99      0.99       199\n",
            "           1       0.00      0.00      0.00         1\n",
            "\n",
            "    accuracy                           0.99       200\n",
            "   macro avg       0.50      0.50      0.50       200\n",
            "weighted avg       0.99      0.99      0.99       200\n",
            "\n",
            "Confusion Matrix:\n",
            "[[198   1]\n",
            " [  1   0]]\n",
            "ROC AUC Score: 0.9899\n",
            "\n",
            "--- Model Comparison Summary ---\n",
            "\n",
            "Model: Logistic Regression\n",
            "Accuracy: 0.9900\n",
            "ROC AUC Score: 0.9899\n",
            "\n",
            "Model: Decision Tree Classifier\n",
            "Accuracy: 0.9900\n",
            "ROC AUC Score: 0.9950\n",
            "\n",
            "Model: Random Forest Classifier\n",
            "Accuracy: 0.9900\n",
            "ROC AUC Score: 0.9899\n",
            "\n",
            "The best performing model is: Decision Tree Classifier\n"
          ]
        }
      ],
      "source": [
        "\n",
        "# Initialize models\n",
        "models = {\n",
        "    \"Logistic Regression\": LogisticRegression(random_state=42),\n",
        "    \"Decision Tree Classifier\": DecisionTreeClassifier(random_state=42),\n",
        "    \"Random Forest Classifier\": RandomForestClassifier(random_state=42)\n",
        "}\n",
        "\n",
        "# Dictionary to store results\n",
        "results = {}\n",
        "\n",
        "# Train, evaluate, and compare models\n",
        "for name, model in models.items():\n",
        "    print(f\"\\n--- Training {name} ---\")\n",
        "\n",
        "    # Train the model\n",
        "    model.fit(X_train_scaled, y_train)\n",
        "\n",
        "    # Make predictions\n",
        "    y_pred = model.predict(X_test_scaled)\n",
        "    y_prob = model.predict_proba(X_test_scaled)[:, 1]\n",
        "\n",
        "    # Calculate metrics\n",
        "    accuracy = accuracy_score(y_test, y_pred)\n",
        "    report = classification_report(y_test, y_pred)\n",
        "    conf_matrix = confusion_matrix(y_test, y_pred)\n",
        "    roc_auc = roc_auc_score(y_test, y_prob)\n",
        "\n",
        "    # Store results\n",
        "    results[name] = {\n",
        "        \"accuracy\": accuracy,\n",
        "        \"classification_report\": report,\n",
        "        \"confusion_matrix\": conf_matrix,\n",
        "        \"roc_auc_score\": roc_auc\n",
        "    }\n",
        "\n",
        "    # Print results\n",
        "    print(f\"Accuracy: {accuracy:.4f}\")\n",
        "    print(\"Classification Report:\")\n",
        "    print(report)\n",
        "    print(\"Confusion Matrix:\")\n",
        "    print(conf_matrix)\n",
        "    print(f\"ROC AUC Score: {roc_auc:.4f}\")\n",
        "\n",
        "# Compare and select the best model\n",
        "print(\"\\n--- Model Comparison Summary ---\")\n",
        "for name, metrics in results.items():\n",
        "    print(f\"\\nModel: {name}\")\n",
        "    print(f\"Accuracy: {metrics['accuracy']:.4f}\")\n",
        "    print(f\"ROC AUC Score: {metrics['roc_auc_score']:.4f}\")\n",
        "\n",
        "# Determine the best model based on ROC AUC score\n",
        "best_model_name = max(results, key=lambda k: results[k]['roc_auc_score'])\n",
        "print(f\"\\nThe best performing model is: {best_model_name}\")"
      ]
    },
    {
      "cell_type": "code",
      "execution_count": 49,
      "metadata": {
        "colab": {
          "base_uri": "https://localhost:8080/",
          "height": 80
        },
        "id": "2Te-9PzGVcAq",
        "outputId": "fc9d1bdd-dbc4-4dbc-80f2-86856b386c5e"
      },
      "outputs": [
        {
          "name": "stdout",
          "output_type": "stream",
          "text": [
            "\n",
            "Please enter the following sensor readings to predict leak status:\n",
            "\n",
            "Prediction Result:\n",
            "No Leak Detected ✅\n"
          ]
        }
      ],
      "source": [
        "import pandas as pd\n",
        "\n",
        "def predict_leak():\n",
        "    print(\"\\nPlease enter the following sensor readings to predict leak status:\")\n",
        "    \n",
        "    # Get user input for each feature\n",
        "    new_pressure = float(input(\"Enter Pressure (bar): \"))\n",
        "    new_flow_rate = float(input(\"Enter Flow Rate (L/s): \"))\n",
        "    new_temp = float(input(\"Enter Temperature (°C): \"))\n",
        "\n",
        "    input_data = pd.DataFrame([[new_pressure, new_flow_rate, new_temp]],\n",
        "                              columns=['Pressure (bar)', 'Flow Rate (L/s)', 'Temperature (°C)'])\n",
        "\n",
        "    best_model_name = max(results, key=lambda k: results[k]['roc_auc_score'])\n",
        "    best_model = models[best_model_name]\n",
        "\n",
        "    input_data_scaled = scaler.transform(input_data)\n",
        "    prediction = best_model.predict(input_data_scaled)\n",
        "    print(\"\\nPrediction Result:\")\n",
        "    if prediction[0] == 1:\n",
        "        print(\"Leak Detected! 🚨\")\n",
        "    else:\n",
        "        print(\"No Leak Detected ✅\")\n",
        "\n",
        "predict_leak()"
      ]
    },
    {
      "cell_type": "code",
      "execution_count": 50,
      "metadata": {
        "colab": {
          "base_uri": "https://localhost:8080/"
        },
        "id": "ZEghG-vVVypr",
        "outputId": "25b7d10f-59ea-4892-af7f-b77a3219a902"
      },
      "outputs": [
        {
          "name": "stdout",
          "output_type": "stream",
          "text": [
            "Best model (Decision Tree Classifier) and scaler saved successfully! ✅\n"
          ]
        }
      ],
      "source": [
        "import joblib\n",
        "\n",
        "# Get the best model object from the models dictionary\n",
        "best_model = models[best_model_name]\n",
        "joblib.dump(best_model, f\"{best_model_name.replace(' ', '_').lower()}_model.pkl\")\n",
        "joblib.dump(scaler, \"scaler.pkl\")\n",
        "\n",
        "print(f\"Best model ({best_model_name}) and scaler saved successfully! ✅\")"
      ]
    },
    {
      "cell_type": "code",
      "execution_count": null,
      "metadata": {
        "id": "bYlR2yKQYWS3"
      },
      "outputs": [],
      "source": []
    }
  ],
  "metadata": {
    "colab": {
      "provenance": []
    },
    "kernelspec": {
      "display_name": "Python 3",
      "name": "python3"
    },
    "language_info": {
      "codemirror_mode": {
        "name": "ipython",
        "version": 3
      },
      "file_extension": ".py",
      "mimetype": "text/x-python",
      "name": "python",
      "nbconvert_exporter": "python",
      "pygments_lexer": "ipython3",
      "version": "3.13.2"
    }
  },
  "nbformat": 4,
  "nbformat_minor": 0
}
